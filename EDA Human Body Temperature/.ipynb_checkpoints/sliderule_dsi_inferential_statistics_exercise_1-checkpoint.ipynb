{
 "cells": [
  {
   "cell_type": "markdown",
   "metadata": {},
   "source": [
    "# What is the True Normal Human Body Temperature? \n",
    "\n",
    "#### Background\n",
    "\n",
    "The mean normal body temperature was held to be 37$^{\\circ}$C or 98.6$^{\\circ}$F for more than 120 years since it was first conceptualized and reported by Carl Wunderlich in a famous 1868 book. But, is this value statistically correct?"
   ]
  },
  {
   "cell_type": "markdown",
   "metadata": {},
   "source": [
    "<div class=\"span5 alert alert-info\">\n",
    "<h3>Exercises</h3>\n",
    "\n",
    "<p>In this exercise, you will analyze a dataset of human body temperatures and employ the concepts of hypothesis testing, confidence intervals, and statistical significance.</p>\n",
    "\n",
    "<p>Answer the following questions <b>in this notebook below and submit to your Github account</b>.</p> \n",
    "\n",
    "<ol>\n",
    "<li>  Is the distribution of body temperatures normal? \n",
    "    <ul>\n",
    "    <li> Although this is not a requirement for CLT to hold (read CLT carefully), it gives us some peace of mind that the population may also be normally distributed if we assume that this sample is representative of the population.\n",
    "    </ul>\n",
    "<li>  Is the sample size large? Are the observations independent?\n",
    "    <ul>\n",
    "    <li> Remember that this is a condition for the CLT, and hence the statistical tests we are using, to apply.\n",
    "    </ul>\n",
    "<li>  Is the true population mean really 98.6 degrees F?\n",
    "    <ul>\n",
    "    <li> Would you use a one-sample or two-sample test? Why?\n",
    "    <li> In this situation, is it appropriate to use the $t$ or $z$ statistic? \n",
    "    <li> Now try using the other test. How is the result be different? Why?\n",
    "    </ul>\n",
    "<li>  At what temperature should we consider someone's temperature to be \"abnormal\"?\n",
    "    <ul>\n",
    "    <li> Start by computing the margin of error and confidence interval.\n",
    "    </ul>\n",
    "<li>  Is there a significant difference between males and females in normal temperature?\n",
    "    <ul>\n",
    "    <li> What test did you use and why?\n",
    "    <li> Write a story with your conclusion in the context of the original problem.\n",
    "    </ul>\n",
    "</ol>\n",
    "\n",
    "You can include written notes in notebook cells using Markdown: \n",
    "   - In the control panel at the top, choose Cell > Cell Type > Markdown\n",
    "   - Markdown syntax: http://nestacms.com/docs/creating-content/markdown-cheat-sheet\n",
    "\n",
    "#### Resources\n",
    "\n",
    "+ Information and data sources: http://www.amstat.org/publications/jse/datasets/normtemp.txt, http://www.amstat.org/publications/jse/jse_data_archive.htm\n",
    "+ Markdown syntax: http://nestacms.com/docs/creating-content/markdown-cheat-sheet\n",
    "\n",
    "****"
   ]
  },
  {
   "cell_type": "code",
   "execution_count": 2,
   "metadata": {
    "collapsed": false
   },
   "outputs": [],
   "source": [
    "import pandas as pd\n",
    "import seaborn as sns\n",
    "import matplotlib.pyplot as plt\n",
    "import scipy.stats as stats\n",
    "import numpy as np\n",
    "%matplotlib inline"
   ]
  },
  {
   "cell_type": "code",
   "execution_count": 3,
   "metadata": {
    "collapsed": false,
    "scrolled": true
   },
   "outputs": [
    {
     "data": {
      "text/html": [
       "<div>\n",
       "<table border=\"1\" class=\"dataframe\">\n",
       "  <thead>\n",
       "    <tr style=\"text-align: right;\">\n",
       "      <th></th>\n",
       "      <th>temperature</th>\n",
       "      <th>gender</th>\n",
       "      <th>heart_rate</th>\n",
       "    </tr>\n",
       "  </thead>\n",
       "  <tbody>\n",
       "    <tr>\n",
       "      <th>0</th>\n",
       "      <td>99.3</td>\n",
       "      <td>F</td>\n",
       "      <td>68.0</td>\n",
       "    </tr>\n",
       "    <tr>\n",
       "      <th>1</th>\n",
       "      <td>98.4</td>\n",
       "      <td>F</td>\n",
       "      <td>81.0</td>\n",
       "    </tr>\n",
       "    <tr>\n",
       "      <th>2</th>\n",
       "      <td>97.8</td>\n",
       "      <td>M</td>\n",
       "      <td>73.0</td>\n",
       "    </tr>\n",
       "    <tr>\n",
       "      <th>3</th>\n",
       "      <td>99.2</td>\n",
       "      <td>F</td>\n",
       "      <td>66.0</td>\n",
       "    </tr>\n",
       "    <tr>\n",
       "      <th>4</th>\n",
       "      <td>98.0</td>\n",
       "      <td>F</td>\n",
       "      <td>73.0</td>\n",
       "    </tr>\n",
       "  </tbody>\n",
       "</table>\n",
       "</div>"
      ],
      "text/plain": [
       "   temperature gender  heart_rate\n",
       "0         99.3      F        68.0\n",
       "1         98.4      F        81.0\n",
       "2         97.8      M        73.0\n",
       "3         99.2      F        66.0\n",
       "4         98.0      F        73.0"
      ]
     },
     "execution_count": 3,
     "metadata": {},
     "output_type": "execute_result"
    }
   ],
   "source": [
    "df = pd.read_csv('data/human_body_temperature.csv')\n",
    "df.head()"
   ]
  },
  {
   "cell_type": "markdown",
   "metadata": {
    "collapsed": false
   },
   "source": [
    "# Is the distribution of body temperatures normal?\n",
    "The sample data appears to be approximately normal, which may suggest that the body temperatures of the whole population is also normally distributed if one assumes the sample is representative."
   ]
  },
  {
   "cell_type": "code",
   "execution_count": 20,
   "metadata": {
    "collapsed": false
   },
   "outputs": [
    {
     "data": {
      "image/png": "[encoded data removed]",
      "text/plain": [
       "<matplotlib.figure.Figure at 0x118d15978>"
      ]
     },
     "metadata": {},
     "output_type": "display_data"
    }
   ],
   "source": [
    "x = plt.hist(df.temperature, bins = 12)"
   ]
  },
  {
   "cell_type": "markdown",
   "metadata": {},
   "source": [
    "# Are the sample sizes large? Are the observations independent?\n",
    "\n",
    "For the Central Limit Theorem to apply, we require that the sample size is sufficiently large. Some practitioners suggest this minimum threshold is 30 while others advocate 50. In either case, this particular dataset contains 130 samples and thus satisfies the sample size condition.\n",
    "\n",
    "Another necessary condition of the Cental Limit Theorem is that the observations are from a simple random sample of the population. The documentation of the data available on the JSE Data Archive confirms that it is. Thus, if the data is from a simple random sample, then the independence condition is also satisfied."
   ]
  },
  {
   "cell_type": "code",
   "execution_count": 21,
   "metadata": {
    "collapsed": false,
    "scrolled": true
   },
   "outputs": [
    {
     "data": {
      "text/plain": [
       "(130, 3)"
      ]
     },
     "execution_count": 21,
     "metadata": {},
     "output_type": "execute_result"
    }
   ],
   "source": [
    "df.shape"
   ]
  },
  {
   "cell_type": "markdown",
   "metadata": {},
   "source": [
    "# Is the true population mean really 98.6 degrees F?\n",
    "### Would you use a one-sample or two-sample test?\n",
    "A one-sample test would be appropriate for this question, as we are not measuring anything against a second sample set, say for example, the difference of means.\n",
    "### In this situation, is it appropriate to use the $t$ or $z$ statistic?\n",
    "Because the population standard deviation is not known, we must use the sample standard deviation, in which case we should use the $t$ score."
   ]
  },
  {
   "cell_type": "code",
   "execution_count": 40,
   "metadata": {
    "collapsed": false
   },
   "outputs": [
    {
     "name": "stdout",
     "output_type": "stream",
     "text": [
      "[ 98.12200291  98.37645863]\n"
     ]
    }
   ],
   "source": [
    "# Confidence Interval = Point Estimate +/- Critical Value * Standard Error\n",
    "# Let's try to create a 95% confidence interval.\n",
    "\n",
    "point_estimate = df.temperature.mean()\n",
    "critical_value = stats.t.ppf(.975, len(df)-1)\n",
    "standard_error = df.temperature.std() / np.sqrt(len(df))\n",
    "confidence_interval = point_estimate + np.array([-1,1]) * critical_value * standard_error\n",
    "print(confidence_interval)"
   ]
  },
  {
   "cell_type": "markdown",
   "metadata": {},
   "source": [
    "A confidence interval of $(98.12, 98.38)$ means that we are 95% confident that the true mean body temperature is between 98.12 and 98.38. This also means that we are 95% confident that the true population mean is **not** 98.6 degrees F as it sits outside the confidence interval. To examine the question from a different angle, let's conduct a hypothesis test.\n",
    "\n",
    "$H_0: \\mu = 98.6$\n",
    "\n",
    "$H_A: \\mu < 98.6$"
   ]
  },
  {
   "cell_type": "code",
   "execution_count": 67,
   "metadata": {
    "collapsed": false
   },
   "outputs": [
    {
     "data": {
      "text/plain": [
       "1.2053160207804971e-07"
      ]
     },
     "execution_count": 67,
     "metadata": {},
     "output_type": "execute_result"
    }
   ],
   "source": [
    "mu = 98.6\n",
    "t_statistic = (point_estimate - mu) / standard_error\n",
    "p_value = stats.t.cdf(t_statistic, len(df)-1)\n",
    "p_value"
   ]
  },
  {
   "cell_type": "markdown",
   "metadata": {},
   "source": [
    "With a p-value of $.00000012 < .05$, we are extremely confident that the mean body temperature of the population is less than $\\mu = 98.6$ and thus reject the null hypothesis."
   ]
  },
  {
   "cell_type": "markdown",
   "metadata": {},
   "source": [
    "### Now try using the other test. How is the result different? Why?"
   ]
  },
  {
   "cell_type": "code",
   "execution_count": 43,
   "metadata": {
    "collapsed": false
   },
   "outputs": [
    {
     "data": {
      "text/plain": [
       "2.4510785070566898e-08"
      ]
     },
     "execution_count": 43,
     "metadata": {},
     "output_type": "execute_result"
    }
   ],
   "source": [
    "z_statistic = t_statistic\n",
    "p_value = stats.norm.cdf(z_statistic)\n",
    "p_value"
   ]
  },
  {
   "cell_type": "markdown",
   "metadata": {},
   "source": [
    "Using a z-test, we see that the p-value is even lower than that of a t-test. This is to be expected, as the t-distribution is broader with fatter tails. Thus, given the same test statistic, the density function of a t-distribution will have higher values than that of a normal distribution at both tails, resulting in higher p-values for a t-distribution."
   ]
  },
  {
   "cell_type": "markdown",
   "metadata": {},
   "source": [
    "# At what temperature should we consider someone's temperature to be \"abnormal\"?\n",
    "The question prompt suggests that we start by computing the margin of error and the confidence interval, but I believe this is incorrect. A 95% confidence interval does not mean that we expect 95% of observations to fall within that interval. Instead, because the sample is normally distributed, the emperical rule would give a better indication as to what constitutes an abnormal temperature. This rule states that 95% of the data should fall within two standard deviations of the mean."
   ]
  },
  {
   "cell_type": "code",
   "execution_count": 48,
   "metadata": {
    "collapsed": false
   },
   "outputs": [
    {
     "name": "stdout",
     "output_type": "stream",
     "text": [
      "[ 96.78286445  99.71559709]\n"
     ]
    }
   ],
   "source": [
    "# Confidence Interval = Point Estimate +/- Critical Value * Standard Error\n",
    "# Let's try to create a 95% confidence interval.\n",
    "\n",
    "sample_mean = df.temperature.mean()\n",
    "sample_sd = df.temperature.std()\n",
    "interval = sample_mean + np.array([-1,1]) * 2 * sample_sd\n",
    "print(interval)"
   ]
  },
  {
   "cell_type": "markdown",
   "metadata": {},
   "source": [
    "Based on the sample, we expect 95% of body temperatures to fall between 96.8 and 99.7 degrees F. Thus, any body temperature outside of these bounds could be considered abnormal."
   ]
  },
  {
   "cell_type": "markdown",
   "metadata": {},
   "source": [
    "# Is there a significant difference between males' and females' normal temperature?"
   ]
  },
  {
   "cell_type": "code",
   "execution_count": 73,
   "metadata": {
    "collapsed": false
   },
   "outputs": [
    {
     "data": {
      "text/plain": [
       "Ttest_indResult(statistic=-2.2854345381656112, pvalue=0.023938264182934196)"
      ]
     },
     "execution_count": 73,
     "metadata": {},
     "output_type": "execute_result"
    }
   ],
   "source": [
    "male_df = df[df.gender == 'M'].temperature\n",
    "female_df = df[df.gender == 'F'].temperature\n",
    "stats.ttest_ind(male_df, female_df, equal_var = False)"
   ]
  },
  {
   "cell_type": "markdown",
   "metadata": {},
   "source": [
    "Using the statistics package to get a p-value of 0.024 may have been a bit of a cheat. Let's do this manually with a two-sample t-test (because we are comparing the sample means of two samples and, like before, the population standard deviation is unknown).\n",
    "\n",
    "$H_0: \\mu_{M} - \\mu_{F} = 0$\n",
    "\n",
    "$H_A: \\mu_{M} - \\mu_{F} \\neq 0$"
   ]
  },
  {
   "cell_type": "code",
   "execution_count": 76,
   "metadata": {
    "collapsed": false
   },
   "outputs": [
    {
     "name": "stdout",
     "output_type": "stream",
     "text": [
      "0.0256096133919 -2.28543453817\n"
     ]
    }
   ],
   "source": [
    "x1 = male_df.mean()\n",
    "x2 = female_df.mean()\n",
    "n1 = len(male_df)\n",
    "n2 = len(female_df)\n",
    "v1 = male_df.var()\n",
    "v2 = female_df.var()\n",
    "\n",
    "t_statistic = (x1 - x2) / np.sqrt(v1/n1 + v2/n2)\n",
    "t_statistic\n",
    "p_value_two_tailed = 2 * stats.t.cdf(t_statistic, min(n1,n2)-1)\n",
    "print(p_value_two_tailed, t_statistic)"
   ]
  },
  {
   "cell_type": "markdown",
   "metadata": {},
   "source": [
    "With a p-value of $.0256 < .05$, we are very confident that the mean body temperature of males and females is different and thus reject the null hypothesis."
   ]
  },
  {
   "cell_type": "markdown",
   "metadata": {},
   "source": [
    "# Summary\n",
    "It is generally accepted knowledge that the average human body temperature is 98.6 degrees Fahrenheit, but data collected for the Journal of the American Medical Association suggests that mean body temperature may in fact actually be lower, closer to 98.2 degrees F. In this dataset consisting of 130 random samples, a 95% confidence interval of $(98.12,98.38)$ was constructed, meaning that one can be 95% confident that the true population mean is between those two values.\n",
    "\n",
    "Based on the sample mean, one can also expect that 95% of body temperatures to fall between 96.8 and 99.7 degrees F. Thus, any body temperature outside of these bounds could be considered abnormal.\n",
    "\n",
    "Finally, there exists a statistically significant difference between the mean body temperatures of males and females, with males typically having a lower body temperature."
   ]
  }
 ],
 "metadata": {
  "anaconda-cloud": {},
  "kernelspec": {
   "display_name": "Python [default]",
   "language": "python",
   "name": "python3"
  },
  "language_info": {
   "codemirror_mode": {
    "name": "ipython",
    "version": 3
   },
   "file_extension": ".py",
   "mimetype": "text/x-python",
   "name": "python",
   "nbconvert_exporter": "python",
   "pygments_lexer": "ipython3",
   "version": "3.5.2"
  }
 },
 "nbformat": 4,
 "nbformat_minor": 0
}
