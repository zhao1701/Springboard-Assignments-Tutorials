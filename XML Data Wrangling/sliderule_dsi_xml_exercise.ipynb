{
 "cells": [
  {
   "cell_type": "markdown",
   "metadata": {},
   "source": [
    "# XML example and exercise\n",
    "****\n",
    "+ study examples of accessing nodes in XML tree structure  \n",
    "+ work on exercise to be completed and submitted\n",
    "****\n",
    "+ reference: https://docs.python.org/2.7/library/xml.etree.elementtree.html\n",
    "+ data source: http://www.dbis.informatik.uni-goettingen.de/Mondial\n",
    "****"
   ]
  },
  {
   "cell_type": "code",
   "execution_count": 256,
   "metadata": {
    "collapsed": true
   },
   "outputs": [],
   "source": [
    "from xml.etree import ElementTree as ET\n",
    "import pandas as pd\n",
    "import numpy as np"
   ]
  },
  {
   "cell_type": "markdown",
   "metadata": {},
   "source": [
    "## XML example\n",
    "\n",
    "+ for details about tree traversal and iterators, see https://docs.python.org/2.7/library/xml.etree.elementtree.html"
   ]
  },
  {
   "cell_type": "code",
   "execution_count": 7,
   "metadata": {
    "collapsed": true
   },
   "outputs": [],
   "source": [
    "document_tree = ET.parse( './data/mondial_database_less.xml' )"
   ]
  },
  {
   "cell_type": "code",
   "execution_count": 157,
   "metadata": {
    "collapsed": false
   },
   "outputs": [],
   "source": [
    "# print names of all countries\n",
    "#for child in document_tree.getroot():\n",
    "    #print(child.find('name').text)"
   ]
  },
  {
   "cell_type": "code",
   "execution_count": 159,
   "metadata": {
    "collapsed": false
   },
   "outputs": [],
   "source": [
    "#print names of all countries and their cities\n",
    "#for element in document_tree.iterfind('country'):\n",
    "    #print('* ' + element.find('name').text + ':')\n",
    "    #capitals_string = ''\n",
    "    #for subelement in element.getiterator('city'):\n",
    "        #capitals_string += subelement.find('name').text + ', '\n",
    "    #print(capitals_string[:-2])"
   ]
  },
  {
   "cell_type": "markdown",
   "metadata": {},
   "source": [
    "****\n",
    "## XML exercise\n",
    "\n",
    "Using data in 'data/mondial_database.xml', the examples above, and refering to https://docs.python.org/2.7/library/xml.etree.elementtree.html, find\n",
    "\n",
    "1. 10 countries with the lowest infant mortality rates\n",
    "2. 10 cities with the largest population\n",
    "3. 10 ethnic groups with the largest overall populations (sum of best/latest estimates over all countries)\n",
    "4. name and country of a) longest river, b) largest lake and c) airport at highest elevation"
   ]
  },
  {
   "cell_type": "code",
   "execution_count": 9,
   "metadata": {
    "collapsed": false
   },
   "outputs": [],
   "source": [
    "document_tree = ET.parse( './data/mondial_database.xml' )"
   ]
  },
  {
   "cell_type": "markdown",
   "metadata": {},
   "source": [
    "# 10 countries with the lowest infant mortality rates"
   ]
  },
  {
   "cell_type": "code",
   "execution_count": 172,
   "metadata": {
    "collapsed": false
   },
   "outputs": [
    {
     "data": {
      "text/html": [
       "<div>\n",
       "<table border=\"1\" class=\"dataframe\">\n",
       "  <thead>\n",
       "    <tr style=\"text-align: right;\">\n",
       "      <th></th>\n",
       "      <th>Country</th>\n",
       "      <th>Infant \n",
       "Mortality Rate</th>\n",
       "    </tr>\n",
       "  </thead>\n",
       "  <tbody>\n",
       "    <tr>\n",
       "      <th>38</th>\n",
       "      <td>Monaco</td>\n",
       "      <td>1.81</td>\n",
       "    </tr>\n",
       "    <tr>\n",
       "      <th>98</th>\n",
       "      <td>Japan</td>\n",
       "      <td>2.13</td>\n",
       "    </tr>\n",
       "    <tr>\n",
       "      <th>117</th>\n",
       "      <td>Bermuda</td>\n",
       "      <td>2.48</td>\n",
       "    </tr>\n",
       "    <tr>\n",
       "      <th>36</th>\n",
       "      <td>Norway</td>\n",
       "      <td>2.48</td>\n",
       "    </tr>\n",
       "    <tr>\n",
       "      <th>106</th>\n",
       "      <td>Singapore</td>\n",
       "      <td>2.53</td>\n",
       "    </tr>\n",
       "    <tr>\n",
       "      <th>37</th>\n",
       "      <td>Sweden</td>\n",
       "      <td>2.60</td>\n",
       "    </tr>\n",
       "    <tr>\n",
       "      <th>10</th>\n",
       "      <td>Czech Republic</td>\n",
       "      <td>2.63</td>\n",
       "    </tr>\n",
       "    <tr>\n",
       "      <th>78</th>\n",
       "      <td>Hong Kong</td>\n",
       "      <td>2.73</td>\n",
       "    </tr>\n",
       "    <tr>\n",
       "      <th>79</th>\n",
       "      <td>Macao</td>\n",
       "      <td>3.13</td>\n",
       "    </tr>\n",
       "    <tr>\n",
       "      <th>44</th>\n",
       "      <td>Iceland</td>\n",
       "      <td>3.15</td>\n",
       "    </tr>\n",
       "  </tbody>\n",
       "</table>\n",
       "</div>"
      ],
      "text/plain": [
       "            Country  Infant \\nMortality Rate\n",
       "38           Monaco                     1.81\n",
       "98            Japan                     2.13\n",
       "117         Bermuda                     2.48\n",
       "36           Norway                     2.48\n",
       "106       Singapore                     2.53\n",
       "37           Sweden                     2.60\n",
       "10   Czech Republic                     2.63\n",
       "78        Hong Kong                     2.73\n",
       "79            Macao                     3.13\n",
       "44          Iceland                     3.15"
      ]
     },
     "execution_count": 172,
     "metadata": {},
     "output_type": "execute_result"
    }
   ],
   "source": [
    "root = document_tree.getroot()\n",
    "\n",
    "#Collection list that accumulates rows where each row contains a country name, infant mortality rate pair.\n",
    "mortalityList = []\n",
    "\n",
    "\n",
    "for country in root.iter(\"country\"):\n",
    "    \n",
    "    #Collects name for each country and appends to row\n",
    "    row = []\n",
    "    row.append(country.find('name').text)\n",
    "    \n",
    "    #Collects infant mortality for each country and appends to row\n",
    "    for mortality in country.getiterator('infant_mortality'):\n",
    "        row.append(float(mortality.text))\n",
    "        \n",
    "    #Appends each name, mortality pair to the collection list\n",
    "    mortalityList.append(row)\n",
    "\n",
    "#Convert collection list to DataFrame for quick sorting\n",
    "mortality_df = pd.DataFrame(mortalityList)\n",
    "\n",
    "#Display 10 countries with lowest infant mortality rates\n",
    "mortality_df = mortality_df.sort_values(by = 1, ascending = True).head(10)\n",
    "mortality_df.columns = ['Country','Infant Mortality Rate']\n",
    "mortality_df"
   ]
  },
  {
   "cell_type": "markdown",
   "metadata": {},
   "source": [
    "# 10 cities with the largest population"
   ]
  },
  {
   "cell_type": "code",
   "execution_count": 169,
   "metadata": {
    "collapsed": false
   },
   "outputs": [
    {
     "data": {
      "text/html": [
       "<div>\n",
       "<table border=\"1\" class=\"dataframe\">\n",
       "  <thead>\n",
       "    <tr style=\"text-align: right;\">\n",
       "      <th></th>\n",
       "      <th>City</th>\n",
       "      <th>Population</th>\n",
       "    </tr>\n",
       "  </thead>\n",
       "  <tbody>\n",
       "    <tr>\n",
       "      <th>1341</th>\n",
       "      <td>Shanghai</td>\n",
       "      <td>22315474.0</td>\n",
       "    </tr>\n",
       "    <tr>\n",
       "      <th>771</th>\n",
       "      <td>Istanbul</td>\n",
       "      <td>13710512.0</td>\n",
       "    </tr>\n",
       "    <tr>\n",
       "      <th>1527</th>\n",
       "      <td>Mumbai</td>\n",
       "      <td>12442373.0</td>\n",
       "    </tr>\n",
       "    <tr>\n",
       "      <th>479</th>\n",
       "      <td>Moskva</td>\n",
       "      <td>11979529.0</td>\n",
       "    </tr>\n",
       "    <tr>\n",
       "      <th>1340</th>\n",
       "      <td>Beijing</td>\n",
       "      <td>11716620.0</td>\n",
       "    </tr>\n",
       "    <tr>\n",
       "      <th>2810</th>\n",
       "      <td>São Paulo</td>\n",
       "      <td>11152344.0</td>\n",
       "    </tr>\n",
       "    <tr>\n",
       "      <th>1342</th>\n",
       "      <td>Tianjin</td>\n",
       "      <td>11090314.0</td>\n",
       "    </tr>\n",
       "    <tr>\n",
       "      <th>1064</th>\n",
       "      <td>Guangzhou</td>\n",
       "      <td>11071424.0</td>\n",
       "    </tr>\n",
       "    <tr>\n",
       "      <th>1582</th>\n",
       "      <td>Delhi</td>\n",
       "      <td>11034555.0</td>\n",
       "    </tr>\n",
       "    <tr>\n",
       "      <th>1067</th>\n",
       "      <td>Shenzhen</td>\n",
       "      <td>10358381.0</td>\n",
       "    </tr>\n",
       "  </tbody>\n",
       "</table>\n",
       "</div>"
      ],
      "text/plain": [
       "           City  Population\n",
       "1341   Shanghai  22315474.0\n",
       "771    Istanbul  13710512.0\n",
       "1527     Mumbai  12442373.0\n",
       "479      Moskva  11979529.0\n",
       "1340    Beijing  11716620.0\n",
       "2810  São Paulo  11152344.0\n",
       "1342    Tianjin  11090314.0\n",
       "1064  Guangzhou  11071424.0\n",
       "1582      Delhi  11034555.0\n",
       "1067   Shenzhen  10358381.0"
      ]
     },
     "execution_count": 169,
     "metadata": {},
     "output_type": "execute_result"
    }
   ],
   "source": [
    "#Collection list that accumulates rows where each row contains a city name, population, and population year.\n",
    "population_list = []\n",
    "\n",
    "for country in root.iter('country'):\n",
    "    for city in country.iter('city'):\n",
    "        \n",
    "        #Collect city name for each row\n",
    "        row = [city.find('name').text]\n",
    "        \n",
    "        #Collects each population count over the city's history\n",
    "        pop_history = []\n",
    "        \n",
    "        for population in city.getiterator('population'):\n",
    "            pop_history.append(float(population.text))\n",
    "        \n",
    "        #Append to row the most recent population of the city\n",
    "        if len(pop_history) > 1:\n",
    "            row.append(pop_history[-1])\n",
    "        \n",
    "        #Append row to overall list\n",
    "        population_list.append(row)\n",
    "\n",
    "#Convert collection list to DataFrame for quick sorting          \n",
    "population_df = pd.DataFrame(population_list)\n",
    "\n",
    "#Display 10 most populous cities\n",
    "population_df = population_df.sort_values(by = 1, ascending = False).head(10)\n",
    "population_df.columns = ['City','Population']\n",
    "population_df"
   ]
  },
  {
   "cell_type": "markdown",
   "metadata": {},
   "source": [
    "# 10 ethnic groups with the largest overall populations"
   ]
  },
  {
   "cell_type": "code",
   "execution_count": 174,
   "metadata": {
    "collapsed": false
   },
   "outputs": [
    {
     "data": {
      "text/html": [
       "<div>\n",
       "<table border=\"1\" class=\"dataframe\">\n",
       "  <thead>\n",
       "    <tr style=\"text-align: right;\">\n",
       "      <th></th>\n",
       "      <th>Population</th>\n",
       "    </tr>\n",
       "    <tr>\n",
       "      <th>1</th>\n",
       "      <th></th>\n",
       "    </tr>\n",
       "  </thead>\n",
       "  <tbody>\n",
       "    <tr>\n",
       "      <th>Han Chinese</th>\n",
       "      <td>1.245059e+09</td>\n",
       "    </tr>\n",
       "    <tr>\n",
       "      <th>Indo-Aryan</th>\n",
       "      <td>8.718156e+08</td>\n",
       "    </tr>\n",
       "    <tr>\n",
       "      <th>European</th>\n",
       "      <td>4.948722e+08</td>\n",
       "    </tr>\n",
       "    <tr>\n",
       "      <th>African</th>\n",
       "      <td>3.183251e+08</td>\n",
       "    </tr>\n",
       "    <tr>\n",
       "      <th>Dravidian</th>\n",
       "      <td>3.027137e+08</td>\n",
       "    </tr>\n",
       "    <tr>\n",
       "      <th>Mestizo</th>\n",
       "      <td>1.577344e+08</td>\n",
       "    </tr>\n",
       "    <tr>\n",
       "      <th>Bengali</th>\n",
       "      <td>1.467769e+08</td>\n",
       "    </tr>\n",
       "    <tr>\n",
       "      <th>Russian</th>\n",
       "      <td>1.318570e+08</td>\n",
       "    </tr>\n",
       "    <tr>\n",
       "      <th>Japanese</th>\n",
       "      <td>1.265342e+08</td>\n",
       "    </tr>\n",
       "    <tr>\n",
       "      <th>Malay</th>\n",
       "      <td>1.219936e+08</td>\n",
       "    </tr>\n",
       "  </tbody>\n",
       "</table>\n",
       "</div>"
      ],
      "text/plain": [
       "               Population\n",
       "1                        \n",
       "Han Chinese  1.245059e+09\n",
       "Indo-Aryan   8.718156e+08\n",
       "European     4.948722e+08\n",
       "African      3.183251e+08\n",
       "Dravidian    3.027137e+08\n",
       "Mestizo      1.577344e+08\n",
       "Bengali      1.467769e+08\n",
       "Russian      1.318570e+08\n",
       "Japanese     1.265342e+08\n",
       "Malay        1.219936e+08"
      ]
     },
     "execution_count": 174,
     "metadata": {},
     "output_type": "execute_result"
    }
   ],
   "source": [
    "#Collection list that accumulates rows where each row contains a country name, ethnic group, and ethnic group population.\n",
    "ethnic_list = []\n",
    "\n",
    "for country in root.iter('country'):\n",
    "    \n",
    "    #Collects each population count over the country's history\n",
    "    pop_history = []\n",
    "    for population in country.findall('population'):\n",
    "        pop_history.append(population.text)\n",
    "    \n",
    "    #For each ethnic group of each country, a row is produced.\n",
    "    #The final element of each row, ethnic_population, is calculated using the group's population percentage\n",
    "    #...and the most recent population of the country in which the group resides\n",
    "    for ethnic_group in country.iter('ethnicgroup'):\n",
    "        row = [country.find('name').text]\n",
    "        row.append(ethnic_group.text)\n",
    "        ethnic_population = float(pop_history[-1]) * float(ethnic_group.attrib['percentage']) / 100.0\n",
    "        row.append(ethnic_population)\n",
    "        ethnic_list.append(row)\n",
    "    \n",
    "#Convert collection list to DataFrame for quick grouping and sorting          \n",
    "ethnic_df = pd.DataFrame(ethnic_list)\n",
    "\n",
    "#Obtain total population for each ethnic group\n",
    "ethnic_df = ethnic_df.groupby(1).sum()\n",
    "ethnic_df = ethnic_df.sort_values(by = 2, ascending = False)\n",
    "ethnic_df.columns = ['Population']\n",
    "\n",
    "#Display 10 most populous ethnic groups\n",
    "ethnic_df.head(10)"
   ]
  },
  {
   "cell_type": "markdown",
   "metadata": {},
   "source": [
    "# Name and country of longest river"
   ]
  },
  {
   "cell_type": "code",
   "execution_count": 183,
   "metadata": {
    "collapsed": false
   },
   "outputs": [
    {
     "data": {
      "text/html": [
       "<div>\n",
       "<table border=\"1\" class=\"dataframe\">\n",
       "  <thead>\n",
       "    <tr style=\"text-align: right;\">\n",
       "      <th></th>\n",
       "      <th>Country Name</th>\n",
       "      <th>Car Code</th>\n",
       "    </tr>\n",
       "  </thead>\n",
       "  <tbody>\n",
       "    <tr>\n",
       "      <th>0</th>\n",
       "      <td>Albania</td>\n",
       "      <td>AL</td>\n",
       "    </tr>\n",
       "    <tr>\n",
       "      <th>1</th>\n",
       "      <td>Greece</td>\n",
       "      <td>GR</td>\n",
       "    </tr>\n",
       "    <tr>\n",
       "      <th>2</th>\n",
       "      <td>Macedonia</td>\n",
       "      <td>MK</td>\n",
       "    </tr>\n",
       "    <tr>\n",
       "      <th>3</th>\n",
       "      <td>Serbia</td>\n",
       "      <td>SRB</td>\n",
       "    </tr>\n",
       "    <tr>\n",
       "      <th>4</th>\n",
       "      <td>Montenegro</td>\n",
       "      <td>MNE</td>\n",
       "    </tr>\n",
       "  </tbody>\n",
       "</table>\n",
       "</div>"
      ],
      "text/plain": [
       "  Country Name Car Code\n",
       "0      Albania       AL\n",
       "1       Greece       GR\n",
       "2    Macedonia       MK\n",
       "3       Serbia      SRB\n",
       "4   Montenegro      MNE"
      ]
     },
     "execution_count": 183,
     "metadata": {},
     "output_type": "execute_result"
    }
   ],
   "source": [
    "#Create a DataFrame pairing country name with car code.\n",
    "#Will be merged later with other DataFrames that only contain car code.\n",
    "country_list = []\n",
    "\n",
    "for country in root.iter('country'):\n",
    "    country_list.append([country.find('name').text, country.attrib['car_code']])\n",
    "\n",
    "country_df = pd.DataFrame(country_list)\n",
    "country_df.columns = ['Country Name','Car Code']\n",
    "country_df.head()"
   ]
  },
  {
   "cell_type": "code",
   "execution_count": 231,
   "metadata": {
    "collapsed": false
   },
   "outputs": [
    {
     "data": {
      "text/html": [
       "<div>\n",
       "<table border=\"1\" class=\"dataframe\">\n",
       "  <thead>\n",
       "    <tr style=\"text-align: right;\">\n",
       "      <th></th>\n",
       "      <th>River Name</th>\n",
       "      <th>Car Code</th>\n",
       "      <th>Length</th>\n",
       "      <th>Country Name</th>\n",
       "    </tr>\n",
       "  </thead>\n",
       "  <tbody>\n",
       "    <tr>\n",
       "      <th>177</th>\n",
       "      <td>Amazonas</td>\n",
       "      <td>PE</td>\n",
       "      <td>6448.0</td>\n",
       "      <td>Peru</td>\n",
       "    </tr>\n",
       "  </tbody>\n",
       "</table>\n",
       "</div>"
      ],
      "text/plain": [
       "    River Name Car Code  Length Country Name\n",
       "177   Amazonas       PE  6448.0         Peru"
      ]
     },
     "execution_count": 231,
     "metadata": {},
     "output_type": "execute_result"
    }
   ],
   "source": [
    "#Collection list where each row will contain river name, country car code, and river length\n",
    "river_list = []\n",
    "\n",
    "for river in root.iter('river'):\n",
    "    \n",
    "    row = [river.find('name').text]   \n",
    "    row.append(river.find('source').attrib['country'])\n",
    "    \n",
    "    for length in river.findall('length'):\n",
    "        row.append(float(length.text))\n",
    "    \n",
    "    river_list.append(row)\n",
    "\n",
    "#Convert list to DataFrame for quick sorting\n",
    "river_df = pd.DataFrame(river_list)\n",
    "river_df.columns = ['River Name', 'Car Code', 'Length']\n",
    "\n",
    "#Merge with country_df for country name\n",
    "river_df = pd.merge(river_df, country_df, how = 'outer', on = 'Car Code')\n",
    "river_df = river_df.sort_values(by = 'Length', ascending = False)\n",
    "river_df.head(1)"
   ]
  },
  {
   "cell_type": "markdown",
   "metadata": {},
   "source": [
    "# Name and country of largest lake"
   ]
  },
  {
   "cell_type": "code",
   "execution_count": 269,
   "metadata": {
    "collapsed": false
   },
   "outputs": [
    {
     "data": {
      "text/html": [
       "<div>\n",
       "<table border=\"1\" class=\"dataframe\">\n",
       "  <thead>\n",
       "    <tr style=\"text-align: right;\">\n",
       "      <th></th>\n",
       "      <th>Lake Name</th>\n",
       "      <th>Car Code</th>\n",
       "      <th>Area</th>\n",
       "      <th>Country Name</th>\n",
       "    </tr>\n",
       "  </thead>\n",
       "  <tbody>\n",
       "    <tr>\n",
       "      <th>47</th>\n",
       "      <td>Caspian Sea</td>\n",
       "      <td>R</td>\n",
       "      <td>386400.0</td>\n",
       "      <td>Russia</td>\n",
       "    </tr>\n",
       "  </tbody>\n",
       "</table>\n",
       "</div>"
      ],
      "text/plain": [
       "      Lake Name Car Code      Area Country Name\n",
       "47  Caspian Sea        R  386400.0       Russia"
      ]
     },
     "execution_count": 269,
     "metadata": {},
     "output_type": "execute_result"
    }
   ],
   "source": [
    "#Collection list where each row will contain river name, country car code, and river length\n",
    "lake_list = []\n",
    "\n",
    "for lake in root.iter('lake'):\n",
    "    \n",
    "    row = [lake.find('name').text]\n",
    "    \n",
    "    #Some lakes span multiple countries. For our purposes, we will use only one country.\n",
    "    countries = []\n",
    "    for location in lake.findall('located'):\n",
    "        countries.append(location.attrib['country'])\n",
    "    \n",
    "    if len(countries) > 0:\n",
    "        row.append(countries[0])  \n",
    "        \n",
    "    for area in lake.findall('area'):\n",
    "        row.append(float(area.text))\n",
    "    lake_list.append(row)\n",
    "\n",
    "#Convert to DataFrame for quick sorting\n",
    "lake_df = pd.DataFrame(lake_list)\n",
    "lake_df.columns = ['Lake Name','Car Code','Area']\n",
    "\n",
    "#Merge with country_df for country name\n",
    "lake_df = pd.merge(lake_df, country_df, how = 'outer', on = 'Car Code')\n",
    "lake_df = lake_df.sort_values(by = 'Area', ascending = False)\n",
    "lake_df.head(1)\n"
   ]
  },
  {
   "cell_type": "markdown",
   "metadata": {},
   "source": [
    "# Name and country of airport with highest elevation"
   ]
  },
  {
   "cell_type": "code",
   "execution_count": 270,
   "metadata": {
    "collapsed": false
   },
   "outputs": [
    {
     "data": {
      "text/html": [
       "<div>\n",
       "<table border=\"1\" class=\"dataframe\">\n",
       "  <thead>\n",
       "    <tr style=\"text-align: right;\">\n",
       "      <th></th>\n",
       "      <th>Airport</th>\n",
       "      <th>Car Code</th>\n",
       "      <th>Elevation</th>\n",
       "      <th>Country Name</th>\n",
       "    </tr>\n",
       "  </thead>\n",
       "  <tbody>\n",
       "    <tr>\n",
       "      <th>80</th>\n",
       "      <td>El Alto Intl</td>\n",
       "      <td>BOL</td>\n",
       "      <td>4063.0</td>\n",
       "      <td>Bolivia</td>\n",
       "    </tr>\n",
       "  </tbody>\n",
       "</table>\n",
       "</div>"
      ],
      "text/plain": [
       "         Airport Car Code  Elevation Country Name\n",
       "80  El Alto Intl      BOL     4063.0      Bolivia"
      ]
     },
     "execution_count": 270,
     "metadata": {},
     "output_type": "execute_result"
    }
   ],
   "source": [
    "#Collection list where each row will contain airport name, country car code, and airport\n",
    "airport_list = []\n",
    "\n",
    "for airport in root.iter('airport'):\n",
    "    \n",
    "    row = [airport.find('name').text]\n",
    "    row.append(airport.attrib['country'])\n",
    "\n",
    "    for elevation in airport.findall('elevation'):\n",
    "        if elevation.text != None:\n",
    "            row.append(float(elevation.text))\n",
    "        else:\n",
    "            row.append(np.nan)\n",
    "    airport_list.append(row)\n",
    "\n",
    "airport_df = pd.DataFrame(airport_list)\n",
    "airport_df.columns = ['Airport','Car Code','Elevation']\n",
    "airport_df = pd.merge(airport_df,country_df,how='outer',on='Car Code')\n",
    "airport_df.sort_values(by = \"Elevation\", ascending = False).head(1)"
   ]
  }
 ],
 "metadata": {
  "anaconda-cloud": {},
  "kernelspec": {
   "display_name": "Python [conda root]",
   "language": "python",
   "name": "conda-root-py"
  },
  "language_info": {
   "codemirror_mode": {
    "name": "ipython",
    "version": 3
   },
   "file_extension": ".py",
   "mimetype": "text/x-python",
   "name": "python",
   "nbconvert_exporter": "python",
   "pygments_lexer": "ipython3",
   "version": "3.5.2"
  }
 },
 "nbformat": 4,
 "nbformat_minor": 0
}
